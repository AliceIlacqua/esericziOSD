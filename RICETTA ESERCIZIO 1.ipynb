{
 "cells": [
  {
   "cell_type": "markdown",
   "metadata": {},
   "source": [
    "# Ricetta Pasta alla Norma"
   ]
  },
  {
   "cell_type": "markdown",
   "metadata": {},
   "source": [
    "- difficoltà **facile**\n",
    "- preparazione **20min**\n",
    "- cottura **60min**\n",
    "- dosi per **4 persone**"
   ]
  },
  {
   "cell_type": "markdown",
   "metadata": {},
   "source": [
    "# Ingredienti\n",
    "1. sedani rigati 320g\n",
    "2. ricotta salata 200g\n",
    "3. melanzane 500\n",
    "4. olio extra vergine di oliva 1filo\n",
    "5. aglio 2spicchi\n",
    "6. pomodori ramati 850\n",
    "7. basilico fresco 10g\n",
    "8. sale fino q.b."
   ]
  },
  {
   "cell_type": "code",
   "execution_count": 4,
   "metadata": {},
   "outputs": [
    {
     "data": {
      "text/plain": [
       "1280"
      ]
     },
     "execution_count": 4,
     "metadata": {},
     "output_type": "execute_result"
    }
   ],
   "source": [
    "n_persone = 4\n",
    "dose_sedani_rigati_a_persona= 320\n",
    "dose_sedani_rigati = n_persone*dose_sedani_rigati_a_persona\n",
    "dose_sedani_rigati\n"
   ]
  },
  {
   "cell_type": "code",
   "execution_count": 5,
   "metadata": {},
   "outputs": [
    {
     "data": {
      "text/plain": [
       "800"
      ]
     },
     "execution_count": 5,
     "metadata": {},
     "output_type": "execute_result"
    }
   ],
   "source": [
    "n_persone = 4\n",
    "dose_ricotta_salata_a_persona = 200\n",
    "dose_ricotta_salata= n_persone*dose_ricotta_salata_a_persona\n",
    "dose_ricotta_salata"
   ]
  },
  {
   "cell_type": "code",
   "execution_count": null,
   "metadata": {},
   "outputs": [],
   "source": []
  }
 ],
 "metadata": {
  "kernelspec": {
   "display_name": "Python 3",
   "language": "python",
   "name": "python3"
  },
  "language_info": {
   "codemirror_mode": {
    "name": "ipython",
    "version": 3
   },
   "file_extension": ".py",
   "mimetype": "text/x-python",
   "name": "python",
   "nbconvert_exporter": "python",
   "pygments_lexer": "ipython3",
   "version": "3.8.3"
  }
 },
 "nbformat": 4,
 "nbformat_minor": 4
}
